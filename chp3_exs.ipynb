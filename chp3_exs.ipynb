{
 "cells": [
  {
   "cell_type": "code",
   "execution_count": 32,
   "id": "182516f8-22d4-4d81-94ac-269b064e7a5d",
   "metadata": {},
   "outputs": [],
   "source": [
    "import networkx as nx # for handling graphs/networks \n",
    "import numpy as np # for basic scientific computing \n",
    "import matplotlib.pyplot as plt # for plotting\n",
    "import matplotlib.gridspec as gridspec"
   ]
  },
  {
   "cell_type": "markdown",
   "id": "5fc6d79e-e467-4b80-a6a3-10e78435d433",
   "metadata": {},
   "source": [
    "### Configuration model"
   ]
  },
  {
   "cell_type": "code",
   "execution_count": 29,
   "id": "e1074742-a5a9-4a16-a9d3-bc96a0e9b918",
   "metadata": {},
   "outputs": [],
   "source": [
    "def CM(d):\n",
    "    # Configuration model with degree sequence d = [d1, ... , dn] (a list or array)\n",
    "    # di \\ge 0 and sum to even \n",
    "    d = list(d)\n",
    "    stubs_list = []\n",
    "    for i in np.arange(len(d)):\n",
    "        for j in np.arange(d[i]):\n",
    "            stubs_list.append([i,j])\n",
    "    \n",
    "    G = nx.MultiGraph()\n",
    "    while len(stubs_list)>0:\n",
    "        ss= np.random.choice(np.asarray(len(stubs_list)), 2, replace=False)\n",
    "        s1= ss[0]\n",
    "        s2= ss[1]\n",
    "\n",
    "        half_edge1 = stubs_list[s1]\n",
    "        half_edge2 = stubs_list[s2]\n",
    "        G.add_edge(half_edge1[0], half_edge2[0])\n",
    "        stubs_list.remove(half_edge1)\n",
    "        if s1 != s2:\n",
    "            stubs_list.remove(half_edge2)\n",
    "            \n",
    "    return G"
   ]
  },
  {
   "cell_type": "code",
   "execution_count": 30,
   "id": "3a9f26a8-2915-4c08-bd64-35c194184adc",
   "metadata": {},
   "outputs": [
    {
     "data": {
      "text/plain": [
       "<networkx.classes.multigraph.MultiGraph at 0x7f7c04feec80>"
      ]
     },
     "execution_count": 30,
     "metadata": {},
     "output_type": "execute_result"
    }
   ],
   "source": [
    "CM([3,2,1])"
   ]
  },
  {
   "cell_type": "code",
   "execution_count": 36,
   "id": "e3de1b96-3b41-4c68-ab62-ba1b6e3cc7cc",
   "metadata": {},
   "outputs": [
    {
     "ename": "ValueError",
     "evalue": "too many values to unpack (expected 2)",
     "output_type": "error",
     "traceback": [
      "\u001b[0;31m---------------------------------------------------------------------------\u001b[0m",
      "\u001b[0;31mValueError\u001b[0m                                Traceback (most recent call last)",
      "Cell \u001b[0;32mIn[36], line 20\u001b[0m\n\u001b[1;32m     18\u001b[0m ax \u001b[38;5;241m=\u001b[39m fig\u001b[38;5;241m.\u001b[39madd_subplot(inner_grid[\u001b[38;5;241m0\u001b[39m, \u001b[38;5;241m0\u001b[39m])\n\u001b[1;32m     19\u001b[0m edges \u001b[38;5;241m=\u001b[39m G\u001b[38;5;241m.\u001b[39medges()\n\u001b[0;32m---> 20\u001b[0m weights \u001b[38;5;241m=\u001b[39m [\u001b[38;5;241m0.5\u001b[39m \u001b[38;5;28;01mfor\u001b[39;00m u,v \u001b[38;5;129;01min\u001b[39;00m G\u001b[38;5;241m.\u001b[39medges]\n\u001b[1;32m     21\u001b[0m nx\u001b[38;5;241m.\u001b[39mdraw(G, with_labels\u001b[38;5;241m=\u001b[39m\u001b[38;5;28;01mFalse\u001b[39;00m, width\u001b[38;5;241m=\u001b[39mweights, node_size\u001b[38;5;241m=\u001b[39m\u001b[38;5;241m20\u001b[39m, ax\u001b[38;5;241m=\u001b[39max, label\u001b[38;5;241m=\u001b[39m\u001b[38;5;124m'\u001b[39m\u001b[38;5;124mGraph\u001b[39m\u001b[38;5;124m'\u001b[39m)\n\u001b[1;32m     22\u001b[0m ax\u001b[38;5;241m.\u001b[39mlegend()\n",
      "Cell \u001b[0;32mIn[36], line 20\u001b[0m, in \u001b[0;36m<listcomp>\u001b[0;34m(.0)\u001b[0m\n\u001b[1;32m     18\u001b[0m ax \u001b[38;5;241m=\u001b[39m fig\u001b[38;5;241m.\u001b[39madd_subplot(inner_grid[\u001b[38;5;241m0\u001b[39m, \u001b[38;5;241m0\u001b[39m])\n\u001b[1;32m     19\u001b[0m edges \u001b[38;5;241m=\u001b[39m G\u001b[38;5;241m.\u001b[39medges()\n\u001b[0;32m---> 20\u001b[0m weights \u001b[38;5;241m=\u001b[39m [\u001b[38;5;241m0.5\u001b[39m \u001b[38;5;28;01mfor\u001b[39;00m u,v \u001b[38;5;129;01min\u001b[39;00m G\u001b[38;5;241m.\u001b[39medges]\n\u001b[1;32m     21\u001b[0m nx\u001b[38;5;241m.\u001b[39mdraw(G, with_labels\u001b[38;5;241m=\u001b[39m\u001b[38;5;28;01mFalse\u001b[39;00m, width\u001b[38;5;241m=\u001b[39mweights, node_size\u001b[38;5;241m=\u001b[39m\u001b[38;5;241m20\u001b[39m, ax\u001b[38;5;241m=\u001b[39max, label\u001b[38;5;241m=\u001b[39m\u001b[38;5;124m'\u001b[39m\u001b[38;5;124mGraph\u001b[39m\u001b[38;5;124m'\u001b[39m)\n\u001b[1;32m     22\u001b[0m ax\u001b[38;5;241m.\u001b[39mlegend()\n",
      "\u001b[0;31mValueError\u001b[0m: too many values to unpack (expected 2)"
     ]
    },
    {
     "data": {
      "image/png": "[encoded data removed]",
      "text/plain": [
       "<Figure size 1200x400 with 1 Axes>"
      ]
     },
     "metadata": {},
     "output_type": "display_data"
    }
   ],
   "source": [
    "fig = plt.figure(figsize=[12,4], constrained_layout=False)\n",
    "network_list = [\"\"]\n",
    "n_list=[10, 50, 100]\n",
    "outer_grid = gridspec.GridSpec(nrows=1, ncols=len(n_list), wspace=0.3, hspace=0.1)\n",
    "\n",
    "r = 3\n",
    "clustering_list = [] \n",
    "path_length_list = []\n",
    "\n",
    "for i in np.arange(len(n_list)): \n",
    "    deg_dist = [r]*n_list[i]\n",
    "    G = CM(d=deg_dist)\n",
    "    title = r\"CM (${}$-regular, $n$={})\".format(r, n_list[i])\n",
    "    \n",
    "    degrees = [G.degree(n) for n in G.nodes()]\n",
    "\n",
    "    inner_grid = outer_grid[0,i].subgridspec(1, 1, wspace=0, hspace=0)\n",
    "    ax = fig.add_subplot(inner_grid[0, 0])\n",
    "    edges = G.edges()\n",
    "    weights = [0.5 for u,v in G.edges]\n",
    "    nx.draw(G, with_labels=False, width=weights, node_size=20, ax=ax, label='Graph')\n",
    "    ax.legend()\n",
    "    title = title + \"\\n avg. cl. coeff.={}\".format(np.round(nx.average_clustering(G0),3))\n",
    "    ax.set_title(title, fontsize=10)\n",
    "\n",
    "\n",
    "plt.savefig(\"CM_0\", bbox_inches=\"tight\")"
   ]
  },
  {
   "cell_type": "code",
   "execution_count": null,
   "id": "55778551-0fe4-4e38-854f-3e5ee1a1b8ca",
   "metadata": {},
   "outputs": [],
   "source": []
  }
 ],
 "metadata": {
  "kernelspec": {
   "display_name": "Python 3 (ipykernel)",
   "language": "python",
   "name": "python3"
  },
  "language_info": {
   "codemirror_mode": {
    "name": "ipython",
    "version": 3
   },
   "file_extension": ".py",
   "mimetype": "text/x-python",
   "name": "python",
   "nbconvert_exporter": "python",
   "pygments_lexer": "ipython3",
   "version": "3.10.9"
  }
 },
 "nbformat": 4,
 "nbformat_minor": 5
}
